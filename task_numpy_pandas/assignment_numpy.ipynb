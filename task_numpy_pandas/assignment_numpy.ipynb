{
 "cells": [
  {
   "cell_type": "markdown",
   "id": "d3df79dd",
   "metadata": {},
   "source": [
    "## Упражнения по библиотеке Numpy"
   ]
  },
  {
   "cell_type": "code",
   "id": "76b9c43b",
   "metadata": {
    "ExecuteTime": {
     "end_time": "2025-10-23T15:55:23.661689Z",
     "start_time": "2025-10-23T15:55:23.514266Z"
    }
   },
   "source": [
    "import numpy as np\n",
    "from tensorflow.python.ops.ragged.ragged_array_ops import boolean_mask"
   ],
   "outputs": [],
   "execution_count": 1
  },
  {
   "cell_type": "markdown",
   "id": "03727b7c",
   "metadata": {},
   "source": [
    "**1.** Дан случайный массив, поменять знак у элементов, значения которых между 3 и 8"
   ]
  },
  {
   "cell_type": "code",
   "id": "b89a7523",
   "metadata": {
    "ExecuteTime": {
     "end_time": "2025-10-23T18:12:21.190383Z",
     "start_time": "2025-10-23T18:12:21.187313Z"
    }
   },
   "source": [
    "random_array = np.random.randint(0, 11, 20)\n",
    "print(f'Исходный массив:\\n{random_array}')\n",
    "\n",
    "boolean_mask = (random_array > 3) & (random_array < 8)\n",
    "\n",
    "random_array[boolean_mask] = -random_array[boolean_mask]\n",
    "\n",
    "print(f'Результат:\\n{random_array}')"
   ],
   "outputs": [
    {
     "name": "stdout",
     "output_type": "stream",
     "text": [
      "Исходный массив:\n",
      "[ 9  4  4  3  4  2  2  0  7  3  6  3  3  2 10  8 10  1  6  4]\n",
      "Результат:\n",
      "[ 9 -4 -4  3 -4  2  2  0 -7  3 -6  3  3  2 10  8 10  1 -6 -4]\n"
     ]
    }
   ],
   "execution_count": 13
  },
  {
   "cell_type": "markdown",
   "id": "5fa4abda",
   "metadata": {},
   "source": "**2.** Заменить максимальный элемент случайного массива на 0"
  },
  {
   "cell_type": "code",
   "id": "f2788a6e",
   "metadata": {
    "ExecuteTime": {
     "end_time": "2025-10-23T18:12:25.125507Z",
     "start_time": "2025-10-23T18:12:25.123144Z"
    }
   },
   "source": [
    "print(f'Исходный массив:\\n{random_array}')\n",
    "\n",
    "random_array[random_array == np.max(random_array)] = 0\n",
    "\n",
    "print(f'Результат:\\n{random_array}')"
   ],
   "outputs": [
    {
     "name": "stdout",
     "output_type": "stream",
     "text": [
      "Исходный массив:\n",
      "[ 9 -4 -4  3 -4  2  2  0 -7  3 -6  3  3  2 10  8 10  1 -6 -4]\n",
      "Результат:\n",
      "[ 9 -4 -4  3 -4  2  2  0 -7  3 -6  3  3  2  0  8  0  1 -6 -4]\n"
     ]
    }
   ],
   "execution_count": 14
  },
  {
   "cell_type": "markdown",
   "id": "3cac656b",
   "metadata": {},
   "source": [
    "**3.** Построить прямое произведение массивов (все комбинации с каждым элементом). На вход подается двумерный массив"
   ]
  },
  {
   "cell_type": "code",
   "id": "3396b764",
   "metadata": {
    "ExecuteTime": {
     "end_time": "2025-10-23T18:27:21.304739Z",
     "start_time": "2025-10-23T18:27:21.299558Z"
    }
   },
   "source": [
    "import numpy as np\n",
    "\n",
    "def cartesian_product_meshgrid(arrays):\n",
    "\n",
    "    arrays = [np.asarray(row) for row in arrays]\n",
    "\n",
    "    grids = np.meshgrid(*arrays, indexing='ij')\n",
    "\n",
    "    result = np.stack([grid.ravel() for grid in grids], axis=-1)\n",
    "\n",
    "    return result\n",
    "\n",
    "input_arrays = np.array([[1, 2],\n",
    "                         [3, 4],\n",
    "                         [5, 6],\n",
    "                         [7, 8],])\n",
    "\n",
    "result = cartesian_product_meshgrid(input_arrays)\n",
    "print(result)"
   ],
   "outputs": [
    {
     "name": "stdout",
     "output_type": "stream",
     "text": [
      "[[1 3 5 7]\n",
      " [1 3 5 8]\n",
      " [1 3 6 7]\n",
      " [1 3 6 8]\n",
      " [1 4 5 7]\n",
      " [1 4 5 8]\n",
      " [1 4 6 7]\n",
      " [1 4 6 8]\n",
      " [2 3 5 7]\n",
      " [2 3 5 8]\n",
      " [2 3 6 7]\n",
      " [2 3 6 8]\n",
      " [2 4 5 7]\n",
      " [2 4 5 8]\n",
      " [2 4 6 7]\n",
      " [2 4 6 8]]\n"
     ]
    }
   ],
   "execution_count": 16
  },
  {
   "cell_type": "markdown",
   "id": "674c9354",
   "metadata": {},
   "source": [
    "**4.** Даны 2 массива A (8x3) и B (2x2). Найти строки в A, которые содержат элементы из каждой строки в B, независимо от порядка элементов в B"
   ]
  },
  {
   "cell_type": "code",
   "id": "cb664782",
   "metadata": {
    "ExecuteTime": {
     "end_time": "2025-10-23T18:42:45.548294Z",
     "start_time": "2025-10-23T18:42:45.537516Z"
    }
   },
   "source": [
    "def find_rows_with_B_elements(A, B):\n",
    "    mask = np.zeros(A.shape[0], dtype=bool)\n",
    "    for b in B:\n",
    "        eq = (A[:, :, None] == b[None, None, :])\n",
    "        found = eq.any(axis=1)\n",
    "        contains_all = found.all(axis=1)\n",
    "        mask |= contains_all\n",
    "    return A[mask]\n",
    "\n",
    "A = np.random.randint(0, 10, (8, 3))\n",
    "B = np.array([[1, 2], [5, 6]])\n",
    "print(f'A:\\n{A}\\nB:\\n{B}\\n')\n",
    "\n",
    "result = find_rows_with_B_elements(A, B)\n",
    "print(f'Result:\\n{result}')"
   ],
   "outputs": [
    {
     "name": "stdout",
     "output_type": "stream",
     "text": [
      "A:\n",
      "[[3 7 9]\n",
      " [9 2 3]\n",
      " [6 2 1]\n",
      " [4 8 3]\n",
      " [7 8 5]\n",
      " [1 8 0]\n",
      " [7 6 3]\n",
      " [0 6 2]]\n",
      "B:\n",
      "[[1 2]\n",
      " [5 6]]\n",
      "\n",
      "Result:\n",
      "[[6 2 1]]\n"
     ]
    }
   ],
   "execution_count": 21
  },
  {
   "cell_type": "markdown",
   "id": "fa46533b",
   "metadata": {},
   "source": [
    "**5.** Дана 10x3 матрица, найти строки из неравных значений (например строка [2,2,3] остается, строка [3,3,3] удаляется)"
   ]
  },
  {
   "cell_type": "code",
   "id": "fa545b23",
   "metadata": {
    "ExecuteTime": {
     "end_time": "2025-10-23T18:47:12.354029Z",
     "start_time": "2025-10-23T18:47:12.349544Z"
    }
   },
   "source": [
    "X = np.random.randint(0, 5, size = (10, 3))\n",
    "print(f'X:\\n{X}')\n",
    "\n",
    "mask = X.min(axis=1) == X.max(axis=1)\n",
    "\n",
    "result = X[mask]\n",
    "print(f'Result:\\n{result}')"
   ],
   "outputs": [
    {
     "name": "stdout",
     "output_type": "stream",
     "text": [
      "X:\n",
      "[[1 0 1]\n",
      " [2 2 2]\n",
      " [0 4 1]\n",
      " [1 2 0]\n",
      " [4 2 1]\n",
      " [0 3 3]\n",
      " [2 3 3]\n",
      " [4 3 4]\n",
      " [0 3 0]\n",
      " [3 3 3]]\n",
      "Result:\n",
      "[[2 2 2]\n",
      " [3 3 3]]\n"
     ]
    }
   ],
   "execution_count": 26
  },
  {
   "cell_type": "markdown",
   "id": "28f0d116",
   "metadata": {},
   "source": [
    "**6.** Дан двумерный массив. Удалить те строки, которые повторяются"
   ]
  },
  {
   "cell_type": "code",
   "id": "83d2c0b7",
   "metadata": {
    "ExecuteTime": {
     "end_time": "2025-10-23T18:54:32.863217Z",
     "start_time": "2025-10-23T18:54:32.852562Z"
    }
   },
   "source": [
    "def remove_duplicates(array):\n",
    "    _, indices = np.unique(array, axis=0, return_index=True)\n",
    "    return array[np.sort(indices)]\n",
    "\n",
    "\n",
    "X = np.random.randint(0, 5, size = (10, 2))\n",
    "print(f'X:\\n{X}')\n",
    "\n",
    "result = remove_duplicates(X)\n",
    "print(f'Result:\\n{result}')"
   ],
   "outputs": [
    {
     "name": "stdout",
     "output_type": "stream",
     "text": [
      "X:\n",
      "[[0 3]\n",
      " [1 3]\n",
      " [2 4]\n",
      " [1 0]\n",
      " [0 1]\n",
      " [2 0]\n",
      " [4 2]\n",
      " [4 4]\n",
      " [3 4]\n",
      " [2 4]]\n",
      "Result:\n",
      "[[0 3]\n",
      " [1 3]\n",
      " [2 4]\n",
      " [1 0]\n",
      " [0 1]\n",
      " [2 0]\n",
      " [4 2]\n",
      " [4 4]\n",
      " [3 4]]\n"
     ]
    }
   ],
   "execution_count": 31
  },
  {
   "cell_type": "markdown",
   "id": "6daa9e37",
   "metadata": {},
   "source": [
    "______\n",
    "______"
   ]
  },
  {
   "cell_type": "markdown",
   "id": "cfbfcaff",
   "metadata": {},
   "source": [
    "Для каждой из следующих задач (1-5) нужно привести 2 реализации – одна без использования numpy (cчитайте, что там, где на входе или выходе должны быть numpy array, будут просто списки), а вторая полностью векторизованная с использованием numpy (без использования питоновских циклов/map/list comprehension).\n",
    "\n",
    "\n",
    "__Замечание 1.__ Можно считать, что все указанные объекты непустые (к примеру, в __задаче 1__ на диагонали матрицы есть ненулевые элементы).\n",
    "\n",
    "__Замечание 2.__ Для большинства задач решение занимает не больше 1-2 строк."
   ]
  },
  {
   "cell_type": "markdown",
   "id": "673cac7f",
   "metadata": {},
   "source": [
    "___"
   ]
  },
  {
   "cell_type": "markdown",
   "id": "ca6f585e",
   "metadata": {},
   "source": [
    "* __Задача 1__: Подсчитать произведение ненулевых элементов на диагонали прямоугольной матрицы.  \n",
    " Например, для X = np.array([[1, 0, 1], [2, 0, 2], [3, 0, 3], [4, 4, 4]]) ответ 3."
   ]
  },
  {
   "cell_type": "code",
   "id": "065862fc",
   "metadata": {
    "ExecuteTime": {
     "end_time": "2025-10-23T19:06:21.262197Z",
     "start_time": "2025-10-23T19:06:21.247096Z"
    }
   },
   "source": [
    "def diag_nonzero_product(matrix):\n",
    "    prod = 1\n",
    "    n_rows = len(matrix)\n",
    "    n_cols = len(matrix[0]) if n_rows >0 else 0\n",
    "    for i in range(min(n_rows, n_cols)):\n",
    "        if(matrix[i][i] != 0):\n",
    "            prod *= matrix[i][i]\n",
    "    return prod\n",
    "\n",
    "def diag_nonzero_product_np(matrix):\n",
    "    diag = np.diag(matrix)\n",
    "    return np.prod(diag[diag != 0])\n",
    "\n",
    "X = [[1, 0, 1],\n",
    "     [2, 0, 2],\n",
    "     [3, 0, 3],\n",
    "     [4, 4, 4]]\n",
    "\n",
    "print(diag_nonzero_product(X))\n",
    "print(diag_nonzero_product_np(X))"
   ],
   "outputs": [
    {
     "name": "stdout",
     "output_type": "stream",
     "text": [
      "3\n",
      "3\n"
     ]
    }
   ],
   "execution_count": 35
  },
  {
   "cell_type": "markdown",
   "id": "9fc51d41",
   "metadata": {},
   "source": [
    "* __Задача 2__: Даны два вектора x и y. Проверить, задают ли они одно и то же мультимножество.  \n",
    "  Например, для x = np.array([1, 2, 2, 4]), y = np.array([4, 2, 1, 2]) ответ True."
   ]
  },
  {
   "cell_type": "code",
   "id": "a809e02f",
   "metadata": {
    "ExecuteTime": {
     "end_time": "2025-10-23T19:11:49.479299Z",
     "start_time": "2025-10-23T19:11:49.470547Z"
    }
   },
   "source": [
    "def same_multiset_py(x, y):\n",
    "    if len(x) != len(y):\n",
    "        return False\n",
    "    from collections import Counter\n",
    "    return Counter(x) == Counter(y)\n",
    "\n",
    "def same_multiset_np(x, y):\n",
    "    if x.size != y.size:\n",
    "        return False\n",
    "    return np.array_equal(np.sort(x), np.sort(y))\n",
    "\n",
    "x = [1, 2, 2, 4]\n",
    "y = [4, 2, 1, 2]\n",
    "\n",
    "print(same_multiset_py(x, y))   # True\n",
    "print(same_multiset_np(np.array(x), np.array(y)))  # True"
   ],
   "outputs": [
    {
     "name": "stdout",
     "output_type": "stream",
     "text": [
      "True\n",
      "True\n"
     ]
    }
   ],
   "execution_count": 36
  },
  {
   "cell_type": "markdown",
   "id": "b9c185c7",
   "metadata": {},
   "source": [
    "* __Задача 3__: Найти максимальный элемент в векторе x среди элементов, перед которыми стоит ноль. \n",
    " Например, для x = np.array([6, 2, 0, 3, 0, 0, 5, 7, 0]) ответ 5."
   ]
  },
  {
   "cell_type": "code",
   "id": "b57df008",
   "metadata": {
    "ExecuteTime": {
     "end_time": "2025-10-23T21:20:31.122500Z",
     "start_time": "2025-10-23T21:20:31.085885Z"
    }
   },
   "source": [
    "def max_after_zero_py(x):\n",
    "    max_val = None\n",
    "    for i in range(1, len(x)):\n",
    "        if x[i - 1] == 0:\n",
    "            if max_val is None or x[i] > max_val:\n",
    "                max_val = x[i]\n",
    "    return max_val\n",
    "\n",
    "def max_after_zero_np(x):\n",
    "    return np.max(x[1:][x[:-1] == 0])\n",
    "\n",
    "x = np.array([6, 2, 0, 3, 0, 0, 5, 7, 0])\n",
    "\n",
    "print(max_after_zero_py(x))\n",
    "print(max_after_zero_np(x))\n"
   ],
   "outputs": [
    {
     "name": "stdout",
     "output_type": "stream",
     "text": [
      "5\n",
      "5\n"
     ]
    }
   ],
   "execution_count": 37
  },
  {
   "cell_type": "markdown",
   "id": "480be4ce",
   "metadata": {},
   "source": [
    "* __Задача 4__: Реализовать кодирование длин серий (Run-length encoding). Для некоторого вектора x необходимо вернуть кортеж из двух векторов одинаковой длины. Первый содержит числа, а второй - сколько раз их нужно повторить.  \n",
    " Например, для x = np.array([2, 2, 2, 3, 3, 3, 5]) ответ (np.array([2, 3, 5]), np.array([3, 3, 1]))."
   ]
  },
  {
   "cell_type": "code",
   "id": "3c592124",
   "metadata": {
    "ExecuteTime": {
     "end_time": "2025-10-23T22:11:42.572910Z",
     "start_time": "2025-10-23T22:11:42.561242Z"
    }
   },
   "source": [
    "def run_length_encoding_py(x):\n",
    "    if not x:\n",
    "        return [], []\n",
    "    values, counts = [x[0]], [1]\n",
    "    for i in range(1, len(x)):\n",
    "        if x[i] == x[i - 1]:\n",
    "            counts[-1] += 1\n",
    "        else:\n",
    "            values.append(x[i])\n",
    "            counts.append(1)\n",
    "    return values, counts\n",
    "\n",
    "def run_length_encoding_np(x):\n",
    "    if x.size == 0:\n",
    "        return np.array([]), np.array([])\n",
    "    idx = np.concatenate(([0], np.where(x[1:] != x[:-1])[0] + 1, [x.size]))\n",
    "    values = x[idx[:-1]]\n",
    "    counts = np.diff(idx)\n",
    "    return values, counts\n",
    "\n",
    "x_list = [2, 2, 2, 3, 3, 3, 5]          # для pure Python\n",
    "x_np   = np.array(x_list)                # для NumPy\n",
    "\n",
    "values_py, counts_py = run_length_encoding_py(x_list)\n",
    "\n",
    "values_np, counts_np = run_length_encoding_np(x_np)\n",
    "\n",
    "print(\"Исходный вектор:\", x_list)\n",
    "print()\n",
    "print(\"Pure Python реализация:\")\n",
    "print(\"  Значения:\", values_py)\n",
    "print(\"  Длины:  \", counts_py)\n",
    "print()\n",
    "print(\"NumPy реализация:\")\n",
    "print(\"  Значения:\", values_np)\n",
    "print(\"  Длины:  \", counts_np)"
   ],
   "outputs": [
    {
     "name": "stdout",
     "output_type": "stream",
     "text": [
      "Исходный вектор: [2, 2, 2, 3, 3, 3, 5]\n",
      "\n",
      "Pure Python реализация:\n",
      "  Значения: [2, 3, 5]\n",
      "  Длины:   [3, 3, 1]\n",
      "\n",
      "NumPy реализация:\n",
      "  Значения: [2 3 5]\n",
      "  Длины:   [3 3 1]\n"
     ]
    }
   ],
   "execution_count": 40
  },
  {
   "cell_type": "markdown",
   "id": "077532ec",
   "metadata": {},
   "source": [
    "* __Задача 5__: Даны две выборки объектов - X и Y. Вычислить матрицу евклидовых расстояний между объектами. Сравните с функцией scipy.spatial.distance.cdist по скорости работы."
   ]
  },
  {
   "cell_type": "code",
   "id": "1e807797",
   "metadata": {
    "ExecuteTime": {
     "end_time": "2025-10-23T22:34:38.247226Z",
     "start_time": "2025-10-23T22:34:32.629777Z"
    }
   },
   "source": [
    "def euclidean_distances_py(X, Y):\n",
    "    n, m = len(X), len(Y)\n",
    "    D = [[0.0] * m for _ in range(n)]\n",
    "    for i in range(n):\n",
    "        for j in range(m):\n",
    "            s = 0.0\n",
    "            for k in range(len(X[i])):\n",
    "                diff = X[i][k] - Y[j][k]\n",
    "                s += diff * diff\n",
    "            D[i][j] = s ** 0.5\n",
    "    return D\n",
    "\n",
    "def euclidean_distances_np(X, Y):\n",
    "    X, Y = np.asarray(X), np.asarray(Y)\n",
    "    return np.sqrt(np.sum((X[:, None, :] - Y[None, :, :]) ** 2, axis=2))\n",
    "\n",
    "from scipy.spatial.distance import cdist\n",
    "\n",
    "import time\n",
    "\n",
    "X = np.random.rand(500, 100)\n",
    "Y = np.random.rand(400, 100)\n",
    "\n",
    "start = time.time()\n",
    "D1 = euclidean_distances_py(X, Y)\n",
    "t_py = time.time() - start\n",
    "\n",
    "start = time.time()\n",
    "D2 = euclidean_distances_np(X, Y)\n",
    "t_np = time.time() - start\n",
    "\n",
    "# SciPy\n",
    "start = time.time()\n",
    "D3 = cdist(X, Y, metric='euclidean')\n",
    "t_scipy = time.time() - start\n",
    "\n",
    "print(f\"Python:  {t_py:.4f} сек\")\n",
    "print(f\"NumPy:   {t_np:.4f} сек\")\n",
    "print(f\"SciPy:   {t_scipy:.4f} сек\")"
   ],
   "outputs": [
    {
     "name": "stdout",
     "output_type": "stream",
     "text": [
      "Python:  5.5377 сек\n",
      "NumPy:   0.0561 сек\n",
      "SciPy:   0.0049 сек\n",
      "Разница: 2.66e-15\n"
     ]
    }
   ],
   "execution_count": 42
  },
  {
   "cell_type": "markdown",
   "id": "973e8064",
   "metadata": {},
   "source": [
    "_______\n",
    "________"
   ]
  },
  {
   "cell_type": "markdown",
   "id": "1104acb7",
   "metadata": {},
   "source": [
    "* #### __Задача 6__: CrunchieMunchies __*__\n",
    "\n",
    "Вы работаете в отделе маркетинга пищевой компании MyCrunch, которая разрабатывает новый вид вкусных, полезных злаков под названием **CrunchieMunchies**.\n",
    "\n",
    "Вы хотите продемонстрировать потребителям, насколько полезны ваши хлопья по сравнению с другими ведущими брендами, поэтому вы собрали данные о питании нескольких разных конкурентов.\n",
    "\n",
    "Ваша задача - использовать вычисления Numpy для анализа этих данных и доказать, что ваши **СrunchieMunchies** - самый здоровый выбор для потребителей.\n"
   ]
  },
  {
   "cell_type": "code",
   "execution_count": 77,
   "id": "10a77f8d",
   "metadata": {},
   "outputs": [],
   "source": [
    "import numpy as np"
   ]
  },
  {
   "cell_type": "markdown",
   "id": "ab87cb03",
   "metadata": {},
   "source": [
    "1. Просмотрите файл cereal.csv. Этот файл содержит количества калорий для различных марок хлопьев. Загрузите данные из файла и сохраните их как calorie_stats."
   ]
  },
  {
   "cell_type": "code",
   "id": "9681ebf2",
   "metadata": {
    "ExecuteTime": {
     "end_time": "2025-10-23T22:42:11.256014Z",
     "start_time": "2025-10-23T22:42:11.231975Z"
    }
   },
   "source": [
    "calorie_stats = np.loadtxt(\"./data/cereal.csv\", delimiter=\",\")\n",
    "calorie_stats"
   ],
   "outputs": [
    {
     "data": {
      "text/plain": [
       "array([ 70., 120.,  70.,  50., 110., 110., 110., 130.,  90.,  90., 120.,\n",
       "       110., 120., 110., 110., 110., 100., 110., 110., 110., 100., 110.,\n",
       "       100., 100., 110., 110., 100., 120., 120., 110., 100., 110., 100.,\n",
       "       110., 120., 120., 110., 110., 110., 140., 110., 100., 110., 100.,\n",
       "       150., 150., 160., 100., 120., 140.,  90., 130., 120., 100.,  50.,\n",
       "        50., 100., 100., 120., 100.,  90., 110., 110.,  80.,  90.,  90.,\n",
       "       110., 110.,  90., 110., 140., 100., 110., 110., 100., 100., 110.])"
      ]
     },
     "execution_count": 44,
     "metadata": {},
     "output_type": "execute_result"
    }
   ],
   "execution_count": 44
  },
  {
   "cell_type": "markdown",
   "id": "139cfbd8",
   "metadata": {},
   "source": [
    "2. В одной порции CrunchieMunchies содержится 60 калорий. Насколько выше среднее количество калорий у ваших конкурентов?\n",
    "\n",
    "Сохраните ответ в переменной average_calories и распечатайте переменную в терминале"
   ]
  },
  {
   "cell_type": "code",
   "id": "7036d240",
   "metadata": {
    "ExecuteTime": {
     "end_time": "2025-10-23T22:52:07.165341Z",
     "start_time": "2025-10-23T22:52:07.121478Z"
    }
   },
   "source": [
    "average_competitors = np.mean(calorie_stats)\n",
    "\n",
    "average_calories = average_competitors - 60\n",
    "\n",
    "print(\"Среднее количество калорий у конкурентов выше ваших на:\", average_calories, \"ккал\")"
   ],
   "outputs": [
    {
     "name": "stdout",
     "output_type": "stream",
     "text": [
      "Среднее количество калорий у конкурентов выше ваших на: 46.883116883116884 ккал\n"
     ]
    }
   ],
   "execution_count": 46
  },
  {
   "cell_type": "markdown",
   "id": "b2ddb4cd",
   "metadata": {},
   "source": [
    "3. Корректно ли среднее количество калорий отражает распределение набора данных? Давайте отсортируем данные и посмотрим.\n",
    "\n",
    "Отсортируйте данные и сохраните результат в переменной calorie_stats_sorted. Распечатайте отсортированную информацию"
   ]
  },
  {
   "cell_type": "code",
   "id": "46eeb4ed",
   "metadata": {
    "ExecuteTime": {
     "end_time": "2025-10-23T22:55:19.401601Z",
     "start_time": "2025-10-23T22:55:19.397270Z"
    }
   },
   "source": [
    "calorie_stats_sorted = np.sort(calorie_stats)\n",
    "\n",
    "calorie_stats_sorted"
   ],
   "outputs": [
    {
     "data": {
      "text/plain": [
       "array([ 50.,  50.,  50.,  70.,  70.,  80.,  90.,  90.,  90.,  90.,  90.,\n",
       "        90.,  90., 100., 100., 100., 100., 100., 100., 100., 100., 100.,\n",
       "       100., 100., 100., 100., 100., 100., 100., 100., 110., 110., 110.,\n",
       "       110., 110., 110., 110., 110., 110., 110., 110., 110., 110., 110.,\n",
       "       110., 110., 110., 110., 110., 110., 110., 110., 110., 110., 110.,\n",
       "       110., 110., 110., 110., 120., 120., 120., 120., 120., 120., 120.,\n",
       "       120., 120., 120., 130., 130., 140., 140., 140., 150., 150., 160.])"
      ]
     },
     "execution_count": 51,
     "metadata": {},
     "output_type": "execute_result"
    }
   ],
   "execution_count": 51
  },
  {
   "cell_type": "markdown",
   "id": "4dc74116",
   "metadata": {},
   "source": [
    "4. Похоже, что большинство значений выше среднего. Давайте посмотрим, является ли медиана наиболее корректным показателем набора данных.\n",
    "\n",
    "Вычислите медиану набора данных и сохраните свой ответ в median_calories. Выведите медиану, чтобы вы могли видеть, как она сравнивается со средним значением."
   ]
  },
  {
   "cell_type": "code",
   "id": "b56627c3",
   "metadata": {
    "ExecuteTime": {
     "end_time": "2025-10-23T23:00:43.955701Z",
     "start_time": "2025-10-23T23:00:43.937327Z"
    }
   },
   "source": [
    "median_calories = np.median(calorie_stats)\n",
    "avg_calories = np.mean(calorie_stats)\n",
    "\n",
    "print(f'Медиана: {median_calories}')\n",
    "print(f'Среднее: {avg_calories}')"
   ],
   "outputs": [
    {
     "name": "stdout",
     "output_type": "stream",
     "text": [
      "Медиана: 110.0\n",
      "Среднее: 106.88311688311688\n"
     ]
    }
   ],
   "execution_count": 54
  },
  {
   "cell_type": "markdown",
   "id": "a63ab72f",
   "metadata": {},
   "source": [
    "5. В то время как медиана показывает, что по крайней мере половина наших значений составляет более 100 калорий, было бы более впечатляюще показать, что значительная часть конкурентов имеет более высокое количество калорий, чем CrunchieMunchies.\n",
    "\n",
    "Рассчитайте различные процентили и распечатайте их, пока не найдете наименьший процентиль, превышающий 60 калорий. Сохраните это значение в переменной nth_percentile."
   ]
  },
  {
   "cell_type": "code",
   "id": "fe80ce03",
   "metadata": {
    "ExecuteTime": {
     "end_time": "2025-10-23T23:15:04.446515Z",
     "start_time": "2025-10-23T23:15:04.421279Z"
    }
   },
   "source": [
    "nth_percentile = None\n",
    "for p in range(1, 101):\n",
    "    val = np.percentile(calorie_stats, p)\n",
    "    if val > 60:\n",
    "        nth_percentile = p\n",
    "        break\n",
    "\n",
    "print(f\"Наименьший процентиль, превышающий 60 калорий: {nth_percentile}\")\n",
    "print(f\"Значение на {nth_percentile}-м процентиле: {np.percentile(calorie_stats, nth_percentile):.1f} ккал\")"
   ],
   "outputs": [
    {
     "name": "stdout",
     "output_type": "stream",
     "text": [
      "Наименьший процентиль, превышающий 60 калорий: 4\n",
      "Значение на 4-м процентиле: 70.0 ккал\n"
     ]
    }
   ],
   "execution_count": 55
  },
  {
   "cell_type": "markdown",
   "id": "a2a3c5aa",
   "metadata": {},
   "source": [
    "6. Хотя процентиль показывает нам, что у большинства конкурентов количество калорий намного выше, это неудобная концепция для использования в маркетинговых материалах.\n",
    "\n",
    "Вместо этого давайте подсчитаем процент хлопьев, в которых содержится более 60 калорий на порцию. Сохраните свой ответ в переменной more_calories и распечатайте его"
   ]
  },
  {
   "cell_type": "code",
   "id": "ade0f6ea",
   "metadata": {
    "ExecuteTime": {
     "end_time": "2025-10-23T23:19:03.171593Z",
     "start_time": "2025-10-23T23:19:03.159630Z"
    }
   },
   "source": [
    "more_calories = np.mean(calorie_stats > 60)\n",
    "\n",
    "more_calories_percent = more_calories * 100\n",
    "\n",
    "print(f\"Процент хлопьев с более чем 60 калориями: {more_calories_percent:.2f}%\")"
   ],
   "outputs": [
    {
     "name": "stdout",
     "output_type": "stream",
     "text": [
      "Процент хлопьев с более чем 60 калориями: 96.10%\n"
     ]
    }
   ],
   "execution_count": 56
  },
  {
   "cell_type": "markdown",
   "id": "1735d65b",
   "metadata": {},
   "source": [
    "7. Это действительно высокий процент. Это будет очень полезно, когда мы будем продвигать CrunchieMunchies. Но один вопрос заключается в том, насколько велики различия в наборе данных? Можем ли мы сделать обобщение, что в большинстве злаков содержится около 100 калорий или разброс еще больше?\n",
    "\n",
    "Рассчитайте величину отклонения, найдя стандартное отклонение, Сохраните свой ответ в calorie_std и распечатайте на терминале. Как мы можем включить эту ценность в наш анализ?"
   ]
  },
  {
   "cell_type": "code",
   "id": "85c8df1f",
   "metadata": {
    "ExecuteTime": {
     "end_time": "2025-10-23T23:20:59.484036Z",
     "start_time": "2025-10-23T23:20:59.471912Z"
    }
   },
   "source": [
    "calorie_std = np.std(calorie_stats)\n",
    "\n",
    "calorie_std"
   ],
   "outputs": [
    {
     "data": {
      "text/plain": [
       "19.35718533390827"
      ]
     },
     "execution_count": 57,
     "metadata": {},
     "output_type": "execute_result"
    }
   ],
   "execution_count": 57
  },
  {
   "cell_type": "markdown",
   "id": "037455c5",
   "metadata": {},
   "source": [
    "8. Напишите короткий абзац, в котором кратко изложите свои выводы и то, как, по вашему мнению, эти данные могут быть использованы в интересах Mycrunch при маркетинге CrunchieMunchies."
   ]
  },
  {
   "metadata": {},
   "cell_type": "markdown",
   "source": "Анализ показал, что CrunchieMunchies (60 ккал) значительно ниже среднего значения калорийности конкурентов (около 107 ккал). 96% брендов содержат более 60 ккал, а стандартное отклонение (около 19 ккал) подтверждает, что наш продукт находится далеко за пределами типичного диапазона (87–126 ккал). Эти данные позволяют MyCrunch позиционировать CrunchieMunchies как один из самых низкокалорийных вариантов на рынке, подкрепляя заявления точной статистикой.",
   "id": "ce542113a98184a9"
  }
 ],
 "metadata": {
  "kernelspec": {
   "display_name": "Python 3 (ipykernel)",
   "language": "python",
   "name": "python3"
  },
  "language_info": {
   "codemirror_mode": {
    "name": "ipython",
    "version": 3
   },
   "file_extension": ".py",
   "mimetype": "text/x-python",
   "name": "python",
   "nbconvert_exporter": "python",
   "pygments_lexer": "ipython3",
   "version": "3.8.10"
  }
 },
 "nbformat": 4,
 "nbformat_minor": 5
}
